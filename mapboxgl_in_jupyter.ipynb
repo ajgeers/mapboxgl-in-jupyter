{
 "cells": [
  {
   "cell_type": "markdown",
   "metadata": {},
   "source": [
    "# mapboxgl-jupyter"
   ]
  },
  {
   "cell_type": "markdown",
   "metadata": {},
   "source": [
    "Testing [mapboxgl-jupyter](https://github.com/mapbox/mapboxgl-jupyter/) for creating maps in Jupyter notebooks. The repo itself provides some nice [examples](https://github.com/mapbox/mapboxgl-jupyter/tree/master/examples/notebooks)."
   ]
  },
  {
   "cell_type": "code",
   "execution_count": null,
   "metadata": {},
   "outputs": [],
   "source": [
    "import geojson\n",
    "import geopandas as gpd\n",
    "import os\n",
    "import requests\n",
    "import zipfile\n",
    "\n",
    "from mapboxgl.viz import CircleViz, HeatmapViz\n",
    "from mapboxgl.utils import create_color_stops"
   ]
  },
  {
   "cell_type": "code",
   "execution_count": null,
   "metadata": {},
   "outputs": [],
   "source": [
    "token = os.getenv('MAPBOX_ACCESS_TOKEN')"
   ]
  },
  {
   "cell_type": "markdown",
   "metadata": {},
   "source": [
    "## Download and cache data"
   ]
  },
  {
   "cell_type": "markdown",
   "metadata": {},
   "source": [
    "Get Shapefile of health sites in Colombia and prepare a GeoJSON for mapping."
   ]
  },
  {
   "cell_type": "code",
   "execution_count": null,
   "metadata": {},
   "outputs": [],
   "source": [
    "data_url = 'https://healthsites.io/media/shapefiles/Colombia_shapefile.zip'\n",
    "data_path = 'data/colombia.zip'\n",
    "\n",
    "if not os.path.exists(data_path):\n",
    "    r = requests.get(data_url)\n",
    "    with open(data_path, 'wb') as f:\n",
    "        f.write(r.content)        \n",
    "\n",
    "    with zipfile.ZipFile(data_path, 'r') as f:\n",
    "        f.extractall(os.path.splitext(data_path)[0])    \n",
    "\n",
    "data_gdf_all_columns = gpd.read_file('data/colombia/colombia.shp')\n",
    "data_gdf = data_gdf_all_columns[['name', 'type', 'geometry']]\n",
    "data = geojson.loads(data_gdf.to_json())"
   ]
  },
  {
   "cell_type": "markdown",
   "metadata": {},
   "source": [
    "## Color health sites by type"
   ]
  },
  {
   "cell_type": "code",
   "execution_count": null,
   "metadata": {},
   "outputs": [],
   "source": [
    "lon_colombia, lat_colombia = (-74.2973, 4.5709)"
   ]
  },
  {
   "cell_type": "code",
   "execution_count": null,
   "metadata": {},
   "outputs": [],
   "source": [
    "category_color_stops = [\n",
    "    ['hospital', 'rgb(211, 47, 47)'],  \n",
    "    ['clinic', 'rgb(2, 136, 209)'], \n",
    "]\n",
    "\n",
    "viz = CircleViz(data,\n",
    "                access_token=token,\n",
    "                radius=2,\n",
    "                color_property='type',\n",
    "                color_default='grey',\n",
    "                color_function_type='match',\n",
    "                color_stops=category_color_stops,\n",
    "                center=(lon_colombia, lat_colombia),\n",
    "                zoom=4)\n",
    "viz.show() "
   ]
  },
  {
   "cell_type": "markdown",
   "metadata": {},
   "source": [
    "## Heatmap"
   ]
  },
  {
   "cell_type": "code",
   "execution_count": null,
   "metadata": {
    "scrolled": false
   },
   "outputs": [],
   "source": [
    "heatmap_color_stops = create_color_stops([0.01, 0.25, 0.5, 0.75, 1], colors='OrRd')\n",
    "heatmap_radius_stops = [[0, 1], [15, 20]]  # increase radius with zoom\n",
    "\n",
    "viz = HeatmapViz(data, \n",
    "                 access_token=token,\n",
    "                 weight_stops=[[1, 1]],\n",
    "                 color_stops=heatmap_color_stops,\n",
    "                 radius_stops=heatmap_radius_stops,\n",
    "                 opacity=0.8,\n",
    "                 center=(lon_colombia, lat_colombia),\n",
    "                 zoom=4)\n",
    "viz.show()"
   ]
  }
 ],
 "metadata": {
  "kernelspec": {
   "display_name": "Python 3",
   "language": "python",
   "name": "python3"
  },
  "language_info": {
   "codemirror_mode": {
    "name": "ipython",
    "version": 3
   },
   "file_extension": ".py",
   "mimetype": "text/x-python",
   "name": "python",
   "nbconvert_exporter": "python",
   "pygments_lexer": "ipython3",
   "version": "3.7.3"
  }
 },
 "nbformat": 4,
 "nbformat_minor": 2
}
